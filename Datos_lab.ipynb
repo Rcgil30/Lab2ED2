{
  "nbformat": 4,
  "nbformat_minor": 0,
  "metadata": {
    "colab": {
      "provenance": [],
      "collapsed_sections": [],
      "authorship_tag": "ABX9TyNThrrYXeymT54o9wL3au/7",
      "include_colab_link": true
    },
    "kernelspec": {
      "name": "python3",
      "display_name": "Python 3"
    },
    "language_info": {
      "name": "python"
    }
  },
  "cells": [
    {
      "cell_type": "markdown",
      "metadata": {
        "id": "view-in-github",
        "colab_type": "text"
      },
      "source": [
        "<a href=\"https://colab.research.google.com/github/Rcgil30/Lab2ED2/blob/main/Datos_lab.ipynb\" target=\"_parent\"><img src=\"https://colab.research.google.com/assets/colab-badge.svg\" alt=\"Open In Colab\"/></a>"
      ]
    },
    {
      "cell_type": "code",
      "execution_count": null,
      "metadata": {
        "id": "swW6zJGRRkDZ"
      },
      "outputs": [],
      "source": [
        "import pandas as pd\n",
        "import folium\n",
        "import numpy as np\n",
        "\n",
        "\n",
        "flights_url ='https://raw.githubusercontent.com/Rcgil30/Lab2ED2/main/data/aerocivil.csv?token=GHSAT0AAAAAABYNZVOTH2YN3DMIMVF2TVI2YZN5WYA'\n",
        "flights = pd.read_csv(flights_url)\n",
        "\n",
        "cities_url ='https://raw.githubusercontent.com/Rcgil30/Lab2ED2/main/data/cities_cord.csv?token=GHSAT0AAAAAABYNZVOSHOR7NRIY3SXB6SIUYZN4ZYA'\n",
        "cities = pd.read_csv(cities_url)\n",
        "\n",
        "cities = cities[['city','lat','lng','country','admin_name', 'capital']]\n",
        "flights.columns = [c.replace(' ', '_') for c in flights.columns]\n",
        "flights = flights[['Origen','Ciudad_Origen','Destino','Ciudad_Destino','Tráfico_(N/I)','Tipo_Vuelo','Pasajeros']]\n",
        "flights = flights[(flights['Tráfico_(N/I)'] == \"N\") & (flights['Tipo_Vuelo'] == \"R\") & (flights['Pasajeros'] >= 1300)] "
      ]
    },
    {
      "cell_type": "code",
      "source": [
        "\n",
        "flights\n"
      ],
      "metadata": {
        "id": "3GB1LnR1fxxv"
      },
      "execution_count": null,
      "outputs": []
    },
    {
      "cell_type": "code",
      "source": [
        "cities  = cities[(cities['country'] == \"Colombia\")]\n",
        "cities['city'] = cities['city'].str.upper()\n",
        "cities['admin_name'] = cities['admin_name'].str.upper()\n",
        "\n",
        "main_flights = flights[(((flights['Ciudad_Destino']).isin(cities.city)) & ((flights['Ciudad_Origen']).isin(cities.city)))]\n",
        "print(main_flights.Ciudad_Destino.nunique())\n",
        "main_flights = main_flights.drop_duplicates(subset=['Ciudad_Origen','Ciudad_Destino'],keep= \"first\")\n",
        "main_flights\n"
      ],
      "metadata": {
        "id": "lPDpHayvrykx"
      },
      "execution_count": null,
      "outputs": []
    }
  ]
}